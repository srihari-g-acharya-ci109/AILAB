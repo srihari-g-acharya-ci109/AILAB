{
  "nbformat": 4,
  "nbformat_minor": 0,
  "metadata": {
    "colab": {
      "provenance": [],
      "authorship_tag": "ABX9TyP6eXm3UuRZAwH3khbpXm9Y",
      "include_colab_link": true
    },
    "kernelspec": {
      "name": "python3",
      "display_name": "Python 3"
    },
    "language_info": {
      "name": "python"
    }
  },
  "cells": [
    {
      "cell_type": "markdown",
      "metadata": {
        "id": "view-in-github",
        "colab_type": "text"
      },
      "source": [
        "<a href=\"https://colab.research.google.com/github/srihari-g-acharya-ci109/AILAB/blob/main/Untitled2.ipynb\" target=\"_parent\"><img src=\"https://colab.research.google.com/assets/colab-badge.svg\" alt=\"Open In Colab\"/></a>"
      ]
    },
    {
      "cell_type": "code",
      "execution_count": 1,
      "metadata": {
        "id": "JHC-7T1szEGN"
      },
      "outputs": [],
      "source": [
        "from collections import deque\n"
      ]
    },
    {
      "cell_type": "code",
      "source": [
        "graph={\n",
        "    'A':['B','C'],\n",
        "    'B':['D','E'],\n",
        "    'C':['F'],\n",
        "    'D':[],\n",
        "    'E':[],\n",
        "    'F':[]\n",
        "}"
      ],
      "metadata": {
        "id": "5UhXFfV0zHlQ"
      },
      "execution_count": 2,
      "outputs": []
    },
    {
      "cell_type": "code",
      "source": [
        "def bfs(graph,start_node):\n",
        "  visited=set()\n",
        "  queue=deque([start_node])\n",
        "\n",
        "  print(\"BFS Traversal Order:\")\n",
        "  while queue:\n",
        "    current_node=queue.popleft()\n",
        "\n",
        "    if current_node not in visited:\n",
        "      print(current_node,end=\" \")\n",
        "      visited.add(current_node)\n",
        "\n",
        "      for neighbor in graph[current_node]:\n",
        "        if neighbor not in visited:\n",
        "          queue.append(neighbor)\n",
        "bfs(graph,'A')"
      ],
      "metadata": {
        "colab": {
          "base_uri": "https://localhost:8080/"
        },
        "id": "9Wp94YYKz1F_",
        "outputId": "04ff46b5-c1ca-46e3-d2f9-b4dbef623b6a"
      },
      "execution_count": 3,
      "outputs": [
        {
          "output_type": "stream",
          "name": "stdout",
          "text": [
            "BFS Traversal Order:\n",
            "A B C D E F "
          ]
        }
      ]
    },
    {
      "cell_type": "code",
      "source": [
        "def dfs(graph,start_node):\n",
        "  stack=[start_node]\n",
        "  visited=set()\n",
        "\n",
        "  print(\"DFS Traversal Order:\")\n",
        "  while stack:\n",
        "    current_node=stack.pop()\n",
        "\n",
        "    if current_node not in visited:\n",
        "      print(current_node,end=\" \")\n",
        "      visited.add(current_node)\n",
        "\n",
        "      for neighbor in reversed(graph[current_node]):\n",
        "        if neighbor not in visited:\n",
        "          stack.append(neighbor)\n",
        "\n",
        "dfs(graph,'A')"
      ],
      "metadata": {
        "colab": {
          "base_uri": "https://localhost:8080/"
        },
        "id": "Ao0wrX4s1ID5",
        "outputId": "42660dc1-b846-4a9f-c69d-63572210ba3a"
      },
      "execution_count": 7,
      "outputs": [
        {
          "output_type": "stream",
          "name": "stdout",
          "text": [
            "DFS Traversal Order:\n",
            "A B D E C F "
          ]
        }
      ]
    },
    {
      "cell_type": "code",
      "source": [],
      "metadata": {
        "id": "duNSlMpk4h9K"
      },
      "execution_count": null,
      "outputs": []
    }
  ]
}